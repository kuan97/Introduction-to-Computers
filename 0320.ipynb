{
  "nbformat": 4,
  "nbformat_minor": 0,
  "metadata": {
    "colab": {
      "provenance": [],
      "authorship_tag": "ABX9TyPupVBoZm5ZnYcv4Vlv8v8g",
      "include_colab_link": true
    },
    "kernelspec": {
      "name": "python3",
      "display_name": "Python 3"
    },
    "language_info": {
      "name": "python"
    }
  },
  "cells": [
    {
      "cell_type": "markdown",
      "metadata": {
        "id": "view-in-github",
        "colab_type": "text"
      },
      "source": [
        "<a href=\"https://colab.research.google.com/github/kuan97/Introduction-to-Computers/blob/main/0320.ipynb\" target=\"_parent\"><img src=\"https://colab.research.google.com/assets/colab-badge.svg\" alt=\"Open In Colab\"/></a>"
      ]
    },
    {
      "cell_type": "code",
      "execution_count": 4,
      "metadata": {
        "colab": {
          "base_uri": "https://localhost:8080/"
        },
        "id": "HeGr_XyPTMop",
        "outputId": "c2cf221d-d61c-431a-bcf3-cbf8379698ce"
      },
      "outputs": [
        {
          "output_type": "stream",
          "name": "stdout",
          "text": [
            "請輸入國文成績50\n",
            "請輸入英文成績60\n",
            "請輸入數學成績70\n",
            "您的總分為:180\n"
          ]
        }
      ],
      "source": [
        "chinese = int(input(\"請輸入國文成績\"))\n",
        "english = int(input(\"請輸入英文成績\"))\n",
        "math = int(input(\"請輸入數學成績\"))\n",
        "total = chinese + english + math\n",
        "print(\"您的總分為:%3d\" % total)"
      ]
    },
    {
      "cell_type": "code",
      "source": [
        "上底 = int(input('請輸入梯形上底長度:'))\n",
        "下底 = int(input('請輸入梯形下底長度:'))\n",
        "高度 = int(input('請輸入梯形的高度:'))\n",
        "面積 = (上底 + 下底) * 高度 / 2\n",
        "print(\"梯形面積為:%2.2f\" % 面積)"
      ],
      "metadata": {
        "colab": {
          "base_uri": "https://localhost:8080/"
        },
        "id": "fNPjblF2Vc5g",
        "outputId": "f734b3e7-f09f-4fee-f66b-7db2fc5b91f8"
      },
      "execution_count": 9,
      "outputs": [
        {
          "output_type": "stream",
          "name": "stdout",
          "text": [
            "請輸入梯形上底長度:3\n",
            "請輸入梯形下底長度:4\n",
            "請輸入梯形的高度:3\n",
            "梯形面積為:10.50\n"
          ]
        }
      ]
    },
    {
      "cell_type": "code",
      "source": [
        "身高 = int(input(\"請輸入您的身高(cm):\"))\n",
        "體重 = int(input(\"請輸入您的體重(kg):\"))\n",
        "BMI = 體重 / (身高/100) ** 2\n",
        "print(\"BMI值為:%2.2f\" % BMI)"
      ],
      "metadata": {
        "colab": {
          "base_uri": "https://localhost:8080/"
        },
        "id": "G1kw33RhWzdv",
        "outputId": "4a9259e9-3ba1-4885-d0cd-b41a60ee3ef0"
      },
      "execution_count": 11,
      "outputs": [
        {
          "output_type": "stream",
          "name": "stdout",
          "text": [
            "請輸入您的身高(cm):180\n",
            "請輸入您的體重(kg):80\n",
            "BMI值為:24.69\n"
          ]
        }
      ]
    }
  ]
}